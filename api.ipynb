{
 "cells": [
  {
   "cell_type": "markdown",
   "metadata": {},
   "source": [
    "# Notebook de desarrollo API Juegos Olimpicos"
   ]
  },
  {
   "cell_type": "markdown",
   "metadata": {},
   "source": [
    "#### Importando librerias"
   ]
  },
  {
   "cell_type": "code",
   "execution_count": 1,
   "metadata": {},
   "outputs": [],
   "source": [
    "import pandas as pd\n",
    "import numpy as np\n",
    "from fastapi import FastAPI"
   ]
  },
  {
   "cell_type": "markdown",
   "metadata": {},
   "source": [
    "#### Instanciando fastapi"
   ]
  },
  {
   "cell_type": "code",
   "execution_count": 2,
   "metadata": {},
   "outputs": [],
   "source": [
    "app =FastAPI()"
   ]
  },
  {
   "cell_type": "markdown",
   "metadata": {},
   "source": [
    "#### Cargar Datasts"
   ]
  },
  {
   "cell_type": "code",
   "execution_count": 3,
   "metadata": {},
   "outputs": [],
   "source": [
    "df=pd.read_parquet(\"Data/Dataset.parquet\")"
   ]
  },
  {
   "cell_type": "markdown",
   "metadata": {},
   "source": [
    "#### Funcion"
   ]
  },
  {
   "cell_type": "code",
   "execution_count": 4,
   "metadata": {},
   "outputs": [],
   "source": [
    "@app.get(\"/\")\n",
    "def index():\n",
    "    return{\"api\"/\"online\"}"
   ]
  },
  {
   "cell_type": "markdown",
   "metadata": {},
   "source": [
    "#### Funcion Medals"
   ]
  },
  {
   "cell_type": "code",
   "execution_count": 5,
   "metadata": {},
   "outputs": [],
   "source": [
    "@app.get(\"/medals\")\n",
    "def medals():\n",
    "    medal = df[\"Medal\"].value_counts()\n",
    "    dic = {}\n",
    "    for i in range(len(medal)):\n",
    "        dic[medal.index[i]] = int(medal.values[i])\n",
    "    return dic"
   ]
  },
  {
   "cell_type": "code",
   "execution_count": 6,
   "metadata": {},
   "outputs": [
    {
     "data": {
      "text/plain": [
       "{'Gold': 14172, 'Bronze': 14162, 'Silver': 13898}"
      ]
     },
     "execution_count": 6,
     "metadata": {},
     "output_type": "execute_result"
    }
   ],
   "source": [
    "medals()"
   ]
  },
  {
   "cell_type": "markdown",
   "metadata": {},
   "source": [
    "#### Funcion medal_country()"
   ]
  },
  {
   "cell_type": "code",
   "execution_count": 7,
   "metadata": {},
   "outputs": [],
   "source": [
    "@app.get(\"/medal_country/{pais}\")\n",
    "def medal_country(pais:str):\n",
    "    filtro=df[df[\"Team\"]==pais]\n",
    "    medallas=filtro[\"Medal\"].value_counts()\n",
    "    dic={}\n",
    "    for i in range(len(medallas)):\n",
    "        dic[medallas.index[i]]=int(medallas.values[i])\n",
    "    return dic"
   ]
  },
  {
   "cell_type": "code",
   "execution_count": 8,
   "metadata": {},
   "outputs": [
    {
     "data": {
      "text/plain": [
       "{'Bronze': 78, 'Gold': 30, 'Silver': 26}"
      ]
     },
     "execution_count": 8,
     "metadata": {},
     "output_type": "execute_result"
    }
   ],
   "source": [
    "medal_country('Mexico')"
   ]
  },
  {
   "cell_type": "markdown",
   "metadata": {},
   "source": [
    "#### Funcion medal_year()"
   ]
  },
  {
   "cell_type": "code",
   "execution_count": 9,
   "metadata": {},
   "outputs": [],
   "source": [
    "@app.get(\"/medal_year/{year}\")\n",
    "def medal_year(year:str):\n",
    "    filtro=df[df[\"Year\"]==year]\n",
    "    medallas=filtro[\"Medal\"].value_counts()\n",
    "    dic={}\n",
    "    for i in range(len(medallas)):\n",
    "        dic[medallas.index[i]]=int(medallas.values[i])\n",
    "    return dic"
   ]
  },
  {
   "cell_type": "code",
   "execution_count": 10,
   "metadata": {},
   "outputs": [
    {
     "data": {
      "text/plain": [
       "{'Bronze': 679, 'Gold': 632, 'Silver': 630}"
      ]
     },
     "execution_count": 10,
     "metadata": {},
     "output_type": "execute_result"
    }
   ],
   "source": [
    "medal_year(2012)"
   ]
  },
  {
   "cell_type": "markdown",
   "metadata": {},
   "source": [
    "#### Funcion ATLETAS(Nombre)"
   ]
  },
  {
   "cell_type": "code",
   "execution_count": 11,
   "metadata": {},
   "outputs": [],
   "source": [
    "@app.get(\"/atletas/{nombre}\")\n",
    "def atletas(nombre:str):\n",
    "    filtro=df[df[\"Name\"]==nombre]\n",
    "    dic={}\n",
    "    if filtro.empty:\n",
    "        return{'Error':'Revise los datos ingresados'}\n",
    "    dic['nombre']=nombre\n",
    "    dic['Sexo']=filtro['Sex'].values[0]\n",
    "    dic['edad']=int(filtro['Age'].values[0])\n",
    "    dic['pais']=list(filtro['Team'].value_counts().index)\n",
    "    dic['juegos']=list(filtro['Games'].value_counts().index)\n",
    "    dic['evento']=list(filtro['Event'].value_counts().index)\n",
    "    medallas={}\n",
    "    for i in range(len(filtro['Medal'].value_counts())):\n",
    "        medallas[filtro['Medal'].value_counts().index[i]]=int(filtro['Medal'].value_counts().values[i])\n",
    "        dic['medallas']=medallas\n",
    "    return dic\n"
   ]
  },
  {
   "cell_type": "code",
   "execution_count": 12,
   "metadata": {},
   "outputs": [
    {
     "data": {
      "text/plain": [
       "{'nombre': 'Heikki Ilmari Savolainen',\n",
       " 'Sexo': 'M',\n",
       " 'edad': 20,\n",
       " 'pais': ['Finland'],\n",
       " 'juegos': ['1932 Summer',\n",
       "  '1936 Summer',\n",
       "  '1948 Summer',\n",
       "  '1952 Summer',\n",
       "  '1928 Summer'],\n",
       " 'evento': [\"Gymnastics Men's Individual All-Around\",\n",
       "  \"Gymnastics Men's Team All-Around\",\n",
       "  \"Gymnastics Men's Horse Vault\",\n",
       "  \"Gymnastics Men's Parallel Bars\",\n",
       "  \"Gymnastics Men's Horizontal Bar\",\n",
       "  \"Gymnastics Men's Rings\",\n",
       "  \"Gymnastics Men's Pommelled Horse\",\n",
       "  \"Gymnastics Men's Floor Exercise\"],\n",
       " 'medallas': {'Bronze': 6, 'Gold': 2, 'Silver': 1}}"
      ]
     },
     "execution_count": 12,
     "metadata": {},
     "output_type": "execute_result"
    }
   ],
   "source": [
    "atletas('Heikki Ilmari Savolainen')"
   ]
  }
 ],
 "metadata": {
  "kernelspec": {
   "display_name": "Python 3",
   "language": "python",
   "name": "python3"
  },
  "language_info": {
   "codemirror_mode": {
    "name": "ipython",
    "version": 3
   },
   "file_extension": ".py",
   "mimetype": "text/x-python",
   "name": "python",
   "nbconvert_exporter": "python",
   "pygments_lexer": "ipython3",
   "version": "3.11.0"
  }
 },
 "nbformat": 4,
 "nbformat_minor": 2
}
